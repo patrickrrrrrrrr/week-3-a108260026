{
  "nbformat": 4,
  "nbformat_minor": 0,
  "metadata": {
    "colab": {
      "name": "Untitled0.ipynb",
      "provenance": []
    },
    "kernelspec": {
      "name": "python3",
      "display_name": "Python 3"
    }
  },
  "cells": [
    {
      "cell_type": "code",
      "metadata": {
        "id": "sQg_nDWGNA01",
        "colab_type": "code",
        "colab": {
          "base_uri": "https://localhost:8080/",
          "height": 34
        },
        "outputId": "494931e9-eb29-4a0e-84c7-5230a5f24255"
      },
      "source": [
        "print('wwrrryyyyy')"
      ],
      "execution_count": 1,
      "outputs": [
        {
          "output_type": "stream",
          "text": [
            "wwrrryyyyy\n"
          ],
          "name": "stdout"
        }
      ]
    }
  ]
}